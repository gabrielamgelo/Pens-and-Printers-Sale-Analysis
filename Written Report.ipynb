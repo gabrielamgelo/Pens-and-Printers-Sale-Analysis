{
 "cells": [
  {
   "cell_type": "markdown",
   "id": "8d97818d",
   "metadata": {},
   "source": [
    "# ***PENS AND PRINTERS PRODUCT SALES***"
   ]
  },
  {
   "cell_type": "markdown",
   "id": "09b28561",
   "metadata": {},
   "source": [
    "### **1- DATA VALIDATION**"
   ]
  },
  {
   "cell_type": "markdown",
   "id": "e3fc10c7",
   "metadata": {},
   "source": [
    "In this step, various data validation methods were used to check the shape of the dataset, the data format of the dataset's columns, descriptive statistics of numeric columns, look for missing and incorrect values or duplicates, standardizing mispelled values, fill missing values with the available data, and to remove rows with incorrect values.\n",
    "\n",
    "The dataset contains 15000 rows and 8 columns before cleaning and validation.\n",
    "\n",
    "The data was validated accordingly and these are the ways it was done:\n",
    "\n",
    "**week**: The week of the campaign. Integer data type. This column has 6 unique values and is accurate, no further actions needed.\n",
    "\n",
    "**sales_method**: The sales approach used (Email, Call, or Email + Call). string data type. Contained incorrect/mispelled values demanding some changes, so those values were replaced by accurate ones.\n",
    "\n",
    "**customer_id**: Unique identifier for each customer. String data type. Was checked for duplicates, none found, no further actions needed.\n",
    "\n",
    "**nb_sold**: Number of units sold to the customer. Integer data type. Values seem consistent, no further actions needed.\n",
    "\n",
    "**revenue**: Revenue generated from the sale. Float64 data type. It had 1074 missing values, which is around 7% of all of its total count, so these missing values were treated, being filled with the median amount corresponding to each sales method.\n",
    "\n",
    "**years_as_customer**: How long the customer has been with the company. Integer data type. This column contained values that surpass the total time the company has been operating (40 years), as they were not in a significant amount, they were removed.\n",
    "\n",
    "**nb_site_visits**: Number of times the customer visited the website. Integer data type. Values seem consistent, no further actions needed.\n",
    "\n",
    "**state**: Customer's state. String data type. Contains all 50 accurate names of the american states, values seem consistent, no further actions needed.\n",
    "\n",
    "\n",
    "After being validated, the dataset contains 14998 rows and 8 columns, and is ready to go through exploratory analysis.\n",
    "\n",
    "\n"
   ]
  },
  {
   "cell_type": "markdown",
   "id": "cab573e7-5410-4d33-b1f5-b719206146ab",
   "metadata": {},
   "source": [
    "### Importing Libraries"
   ]
  },
  {
   "cell_type": "code",
   "execution_count": 451,
   "id": "d0ca54c8-d11b-4cd3-b861-19b29e0766fb",
   "metadata": {},
   "outputs": [],
   "source": [
    "import pandas as pd\n",
    "import numpy as np\n",
    "import matplotlib.pyplot as plt\n",
    "%matplotlib inline\n",
    "import seaborn as sns\n",
    "\n",
    "import warnings\n",
    "warnings.filterwarnings('ignore')"
   ]
  },
  {
   "cell_type": "markdown",
   "id": "e2c70065-3701-4620-a79e-27f01710e01c",
   "metadata": {},
   "source": [
    "### Loading the Dataframe"
   ]
  },
  {
   "cell_type": "code",
   "execution_count": 452,
   "id": "a26034b0-26f6-482a-86bf-b32b123e91ba",
   "metadata": {},
   "outputs": [],
   "source": [
    "df = pd.read_csv('product_sales.csv')"
   ]
  },
  {
   "cell_type": "markdown",
   "id": "680b192e",
   "metadata": {},
   "source": [
    "### Checking the Dataframe"
   ]
  },
  {
   "cell_type": "code",
   "execution_count": 453,
   "id": "3bc3ea1a-5632-41de-9107-bd790b684e1d",
   "metadata": {},
   "outputs": [
    {
     "name": "stdout",
     "output_type": "stream",
     "text": [
      "Dataframe format = (15000, 8)\n",
      "Memory usage = 0.92 MB\n"
     ]
    }
   ],
   "source": [
    "# Returns the shape and memory usage of the dataframe\n",
    "print('Dataframe format = {}'.format(df.shape))\n",
    "print('Memory usage = {:.2f} MB'.format(df.memory_usage().sum() / 1024**2))"
   ]
  },
  {
   "cell_type": "code",
   "execution_count": 454,
   "id": "d7b5629c-6adc-4344-b61a-f015aa0f1069",
   "metadata": {},
   "outputs": [
    {
     "data": {
      "text/html": [
       "<div>\n",
       "<style scoped>\n",
       "    .dataframe tbody tr th:only-of-type {\n",
       "        vertical-align: middle;\n",
       "    }\n",
       "\n",
       "    .dataframe tbody tr th {\n",
       "        vertical-align: top;\n",
       "    }\n",
       "\n",
       "    .dataframe thead th {\n",
       "        text-align: right;\n",
       "    }\n",
       "</style>\n",
       "<table border=\"1\" class=\"dataframe\">\n",
       "  <thead>\n",
       "    <tr style=\"text-align: right;\">\n",
       "      <th></th>\n",
       "      <th>week</th>\n",
       "      <th>sales_method</th>\n",
       "      <th>customer_id</th>\n",
       "      <th>nb_sold</th>\n",
       "      <th>revenue</th>\n",
       "      <th>years_as_customer</th>\n",
       "      <th>nb_site_visits</th>\n",
       "      <th>state</th>\n",
       "    </tr>\n",
       "  </thead>\n",
       "  <tbody>\n",
       "    <tr>\n",
       "      <th>0</th>\n",
       "      <td>2</td>\n",
       "      <td>Email</td>\n",
       "      <td>2e72d641-95ac-497b-bbf8-4861764a7097</td>\n",
       "      <td>10</td>\n",
       "      <td>NaN</td>\n",
       "      <td>0</td>\n",
       "      <td>24</td>\n",
       "      <td>Arizona</td>\n",
       "    </tr>\n",
       "    <tr>\n",
       "      <th>1</th>\n",
       "      <td>6</td>\n",
       "      <td>Email + Call</td>\n",
       "      <td>3998a98d-70f5-44f7-942e-789bb8ad2fe7</td>\n",
       "      <td>15</td>\n",
       "      <td>225.47</td>\n",
       "      <td>1</td>\n",
       "      <td>28</td>\n",
       "      <td>Kansas</td>\n",
       "    </tr>\n",
       "    <tr>\n",
       "      <th>2</th>\n",
       "      <td>5</td>\n",
       "      <td>Call</td>\n",
       "      <td>d1de9884-8059-4065-b10f-86eef57e4a44</td>\n",
       "      <td>11</td>\n",
       "      <td>52.55</td>\n",
       "      <td>6</td>\n",
       "      <td>26</td>\n",
       "      <td>Wisconsin</td>\n",
       "    </tr>\n",
       "    <tr>\n",
       "      <th>3</th>\n",
       "      <td>4</td>\n",
       "      <td>Email</td>\n",
       "      <td>78aa75a4-ffeb-4817-b1d0-2f030783c5d7</td>\n",
       "      <td>11</td>\n",
       "      <td>NaN</td>\n",
       "      <td>3</td>\n",
       "      <td>25</td>\n",
       "      <td>Indiana</td>\n",
       "    </tr>\n",
       "    <tr>\n",
       "      <th>4</th>\n",
       "      <td>3</td>\n",
       "      <td>Email</td>\n",
       "      <td>10e6d446-10a5-42e5-8210-1b5438f70922</td>\n",
       "      <td>9</td>\n",
       "      <td>90.49</td>\n",
       "      <td>0</td>\n",
       "      <td>28</td>\n",
       "      <td>Illinois</td>\n",
       "    </tr>\n",
       "  </tbody>\n",
       "</table>\n",
       "</div>"
      ],
      "text/plain": [
       "   week  sales_method                           customer_id  nb_sold  revenue  \\\n",
       "0     2         Email  2e72d641-95ac-497b-bbf8-4861764a7097       10      NaN   \n",
       "1     6  Email + Call  3998a98d-70f5-44f7-942e-789bb8ad2fe7       15   225.47   \n",
       "2     5          Call  d1de9884-8059-4065-b10f-86eef57e4a44       11    52.55   \n",
       "3     4         Email  78aa75a4-ffeb-4817-b1d0-2f030783c5d7       11      NaN   \n",
       "4     3         Email  10e6d446-10a5-42e5-8210-1b5438f70922        9    90.49   \n",
       "\n",
       "   years_as_customer  nb_site_visits      state  \n",
       "0                  0              24    Arizona  \n",
       "1                  1              28     Kansas  \n",
       "2                  6              26  Wisconsin  \n",
       "3                  3              25    Indiana  \n",
       "4                  0              28   Illinois  "
      ]
     },
     "execution_count": 454,
     "metadata": {},
     "output_type": "execute_result"
    }
   ],
   "source": [
    "# Returns first 5 rows of the dataframe\n",
    "df.head()"
   ]
  },
  {
   "cell_type": "code",
   "execution_count": 455,
   "id": "66671a5c",
   "metadata": {},
   "outputs": [
    {
     "name": "stdout",
     "output_type": "stream",
     "text": [
      "<class 'pandas.core.frame.DataFrame'>\n",
      "RangeIndex: 15000 entries, 0 to 14999\n",
      "Data columns (total 8 columns):\n",
      " #   Column             Non-Null Count  Dtype  \n",
      "---  ------             --------------  -----  \n",
      " 0   week               15000 non-null  int64  \n",
      " 1   sales_method       15000 non-null  object \n",
      " 2   customer_id        15000 non-null  object \n",
      " 3   nb_sold            15000 non-null  int64  \n",
      " 4   revenue            13926 non-null  float64\n",
      " 5   years_as_customer  15000 non-null  int64  \n",
      " 6   nb_site_visits     15000 non-null  int64  \n",
      " 7   state              15000 non-null  object \n",
      "dtypes: float64(1), int64(4), object(3)\n",
      "memory usage: 937.6+ KB\n"
     ]
    }
   ],
   "source": [
    "# Returns informations about the columns in the dataframe\n",
    "df.info()"
   ]
  },
  {
   "cell_type": "code",
   "execution_count": 456,
   "id": "1b300a30",
   "metadata": {},
   "outputs": [
    {
     "data": {
      "text/html": [
       "<div>\n",
       "<style scoped>\n",
       "    .dataframe tbody tr th:only-of-type {\n",
       "        vertical-align: middle;\n",
       "    }\n",
       "\n",
       "    .dataframe tbody tr th {\n",
       "        vertical-align: top;\n",
       "    }\n",
       "\n",
       "    .dataframe thead th {\n",
       "        text-align: right;\n",
       "    }\n",
       "</style>\n",
       "<table border=\"1\" class=\"dataframe\">\n",
       "  <thead>\n",
       "    <tr style=\"text-align: right;\">\n",
       "      <th></th>\n",
       "      <th>week</th>\n",
       "      <th>nb_sold</th>\n",
       "      <th>revenue</th>\n",
       "      <th>years_as_customer</th>\n",
       "      <th>nb_site_visits</th>\n",
       "    </tr>\n",
       "  </thead>\n",
       "  <tbody>\n",
       "    <tr>\n",
       "      <th>count</th>\n",
       "      <td>15000.000000</td>\n",
       "      <td>15000.000000</td>\n",
       "      <td>13926.000000</td>\n",
       "      <td>15000.000000</td>\n",
       "      <td>15000.000000</td>\n",
       "    </tr>\n",
       "    <tr>\n",
       "      <th>mean</th>\n",
       "      <td>3.098267</td>\n",
       "      <td>10.084667</td>\n",
       "      <td>93.934943</td>\n",
       "      <td>4.965933</td>\n",
       "      <td>24.990867</td>\n",
       "    </tr>\n",
       "    <tr>\n",
       "      <th>std</th>\n",
       "      <td>1.656420</td>\n",
       "      <td>1.812213</td>\n",
       "      <td>47.435312</td>\n",
       "      <td>5.044952</td>\n",
       "      <td>3.500914</td>\n",
       "    </tr>\n",
       "    <tr>\n",
       "      <th>min</th>\n",
       "      <td>1.000000</td>\n",
       "      <td>7.000000</td>\n",
       "      <td>32.540000</td>\n",
       "      <td>0.000000</td>\n",
       "      <td>12.000000</td>\n",
       "    </tr>\n",
       "    <tr>\n",
       "      <th>25%</th>\n",
       "      <td>2.000000</td>\n",
       "      <td>9.000000</td>\n",
       "      <td>52.470000</td>\n",
       "      <td>1.000000</td>\n",
       "      <td>23.000000</td>\n",
       "    </tr>\n",
       "    <tr>\n",
       "      <th>50%</th>\n",
       "      <td>3.000000</td>\n",
       "      <td>10.000000</td>\n",
       "      <td>89.500000</td>\n",
       "      <td>3.000000</td>\n",
       "      <td>25.000000</td>\n",
       "    </tr>\n",
       "    <tr>\n",
       "      <th>75%</th>\n",
       "      <td>5.000000</td>\n",
       "      <td>11.000000</td>\n",
       "      <td>107.327500</td>\n",
       "      <td>7.000000</td>\n",
       "      <td>27.000000</td>\n",
       "    </tr>\n",
       "    <tr>\n",
       "      <th>max</th>\n",
       "      <td>6.000000</td>\n",
       "      <td>16.000000</td>\n",
       "      <td>238.320000</td>\n",
       "      <td>63.000000</td>\n",
       "      <td>41.000000</td>\n",
       "    </tr>\n",
       "  </tbody>\n",
       "</table>\n",
       "</div>"
      ],
      "text/plain": [
       "               week       nb_sold       revenue  years_as_customer  \\\n",
       "count  15000.000000  15000.000000  13926.000000       15000.000000   \n",
       "mean       3.098267     10.084667     93.934943           4.965933   \n",
       "std        1.656420      1.812213     47.435312           5.044952   \n",
       "min        1.000000      7.000000     32.540000           0.000000   \n",
       "25%        2.000000      9.000000     52.470000           1.000000   \n",
       "50%        3.000000     10.000000     89.500000           3.000000   \n",
       "75%        5.000000     11.000000    107.327500           7.000000   \n",
       "max        6.000000     16.000000    238.320000          63.000000   \n",
       "\n",
       "       nb_site_visits  \n",
       "count    15000.000000  \n",
       "mean        24.990867  \n",
       "std          3.500914  \n",
       "min         12.000000  \n",
       "25%         23.000000  \n",
       "50%         25.000000  \n",
       "75%         27.000000  \n",
       "max         41.000000  "
      ]
     },
     "execution_count": 456,
     "metadata": {},
     "output_type": "execute_result"
    }
   ],
   "source": [
    "# Returns descriptive statistics of numerical columns\n",
    "df.describe()"
   ]
  },
  {
   "cell_type": "code",
   "execution_count": 457,
   "id": "5cbbbd18",
   "metadata": {},
   "outputs": [
    {
     "data": {
      "text/plain": [
       "array([2, 6, 5, 4, 3, 1], dtype=int64)"
      ]
     },
     "execution_count": 457,
     "metadata": {},
     "output_type": "execute_result"
    }
   ],
   "source": [
    "# Unique values in 'week' column\n",
    "df['week'].unique()"
   ]
  },
  {
   "cell_type": "code",
   "execution_count": 458,
   "id": "48feb123",
   "metadata": {},
   "outputs": [
    {
     "data": {
      "text/plain": [
       "array(['Email', 'Email + Call', 'Call', 'em + call', 'email'],\n",
       "      dtype=object)"
      ]
     },
     "execution_count": 458,
     "metadata": {},
     "output_type": "execute_result"
    }
   ],
   "source": [
    "# Unique values in 'sales_method' column\n",
    "df['sales_method'].unique()"
   ]
  },
  {
   "cell_type": "code",
   "execution_count": 459,
   "id": "ad070fb3",
   "metadata": {},
   "outputs": [
    {
     "data": {
      "text/plain": [
       "(array(['Arizona', 'Kansas', 'Wisconsin', 'Indiana', 'Illinois',\n",
       "        'Mississippi', 'Georgia', 'Oklahoma', 'Massachusetts', 'Missouri',\n",
       "        'Texas', 'New York', 'Maryland', 'California', 'Tennessee',\n",
       "        'Pennsylvania', 'North Dakota', 'Florida', 'Michigan',\n",
       "        'North Carolina', 'Hawaii', 'Colorado', 'Louisiana', 'Virginia',\n",
       "        'New Mexico', 'Arkansas', 'Alaska', 'Oregon', 'New Hampshire',\n",
       "        'Ohio', 'New Jersey', 'Connecticut', 'Iowa', 'Montana',\n",
       "        'Washington', 'Kentucky', 'Alabama', 'Nebraska', 'South Carolina',\n",
       "        'Minnesota', 'South Dakota', 'Delaware', 'Maine', 'Utah',\n",
       "        'West Virginia', 'Vermont', 'Rhode Island', 'Nevada', 'Idaho',\n",
       "        'Wyoming'], dtype=object),\n",
       " 50)"
      ]
     },
     "execution_count": 459,
     "metadata": {},
     "output_type": "execute_result"
    }
   ],
   "source": [
    "# Unique values in 'state' column\n",
    "df['state'].unique(), df['state'].nunique()"
   ]
  },
  {
   "cell_type": "markdown",
   "id": "113481ef-ca17-4e16-b451-bead661be73f",
   "metadata": {},
   "source": [
    "### Checking for Missing Values"
   ]
  },
  {
   "cell_type": "code",
   "execution_count": 460,
   "id": "a42aeeaa-67a3-41f3-b510-871227586ea9",
   "metadata": {},
   "outputs": [
    {
     "data": {
      "text/plain": [
       "week                    0\n",
       "sales_method            0\n",
       "customer_id             0\n",
       "nb_sold                 0\n",
       "revenue              1074\n",
       "years_as_customer       0\n",
       "nb_site_visits          0\n",
       "state                   0\n",
       "dtype: int64"
      ]
     },
     "execution_count": 460,
     "metadata": {},
     "output_type": "execute_result"
    }
   ],
   "source": [
    "# Number of missing values in each column\n",
    "df.isna().sum()"
   ]
  },
  {
   "cell_type": "code",
   "execution_count": 461,
   "id": "cec9c94d-9741-4a2e-8a6c-bab566a9c483",
   "metadata": {},
   "outputs": [
    {
     "name": "stdout",
     "output_type": "stream",
     "text": [
      "7.16 %\n"
     ]
    }
   ],
   "source": [
    "# Checking the proportion of missing values in 'revenue' column\n",
    "missing_values = df['revenue'].isnull().sum()  \n",
    "total_values = len(df['revenue'])  \n",
    "\n",
    "missing_prop = (missing_values / total_values) * 100\n",
    "print(missing_prop,'%')"
   ]
  },
  {
   "cell_type": "markdown",
   "id": "84c1c024-98bf-43a2-8813-4b95a3a44d4d",
   "metadata": {},
   "source": [
    "### Checking for Duplicates"
   ]
  },
  {
   "cell_type": "code",
   "execution_count": 462,
   "id": "243f174e-f7d1-4f43-846c-791f0e0e6083",
   "metadata": {},
   "outputs": [
    {
     "data": {
      "text/plain": [
       "0"
      ]
     },
     "execution_count": 462,
     "metadata": {},
     "output_type": "execute_result"
    }
   ],
   "source": [
    "# Returns number of duplicate rows\n",
    "df['customer_id'].duplicated().sum()"
   ]
  },
  {
   "cell_type": "markdown",
   "id": "962004be",
   "metadata": {},
   "source": [
    "### Standardizing the data"
   ]
  },
  {
   "cell_type": "code",
   "execution_count": 463,
   "id": "a9dc9f5a-f663-4bdc-b40a-e3b427c515bc",
   "metadata": {},
   "outputs": [
    {
     "data": {
      "text/plain": [
       "array(['Email', 'Email + Call', 'Call'], dtype=object)"
      ]
     },
     "execution_count": 463,
     "metadata": {},
     "output_type": "execute_result"
    }
   ],
   "source": [
    "# Standardizes values in 'sales_method' column\n",
    "df['sales_method'] = df['sales_method'].replace({'em + call': 'Email + Call', 'email': 'Email'})\n",
    "\n",
    "# Checking the result\n",
    "df['sales_method'].unique()"
   ]
  },
  {
   "cell_type": "code",
   "execution_count": 464,
   "id": "9ac69559",
   "metadata": {},
   "outputs": [
    {
     "data": {
      "text/plain": [
       "years_as_customer\n",
       "31    6\n",
       "32    5\n",
       "29    5\n",
       "35    5\n",
       "36    4\n",
       "39    3\n",
       "38    2\n",
       "37    2\n",
       "63    1\n",
       "47    1\n",
       "Name: count, dtype: int64"
      ]
     },
     "execution_count": 464,
     "metadata": {},
     "output_type": "execute_result"
    }
   ],
   "source": [
    "# Looking for abnormal values in 'years_as_customer' column\n",
    "df['years_as_customer'].value_counts().sort_values(ascending=False).tail(10)"
   ]
  },
  {
   "cell_type": "code",
   "execution_count": 465,
   "id": "fd796607",
   "metadata": {},
   "outputs": [
    {
     "data": {
      "text/plain": [
       "years_as_customer\n",
       "34    8\n",
       "33    8\n",
       "31    6\n",
       "32    5\n",
       "29    5\n",
       "35    5\n",
       "36    4\n",
       "39    3\n",
       "38    2\n",
       "37    2\n",
       "Name: count, dtype: int64"
      ]
     },
     "execution_count": 465,
     "metadata": {},
     "output_type": "execute_result"
    }
   ],
   "source": [
    "# Removing those values\n",
    "df = df[df['years_as_customer'] < 40]\n",
    "\n",
    "# Checking the result\n",
    "df['years_as_customer'].value_counts().sort_values(ascending=False).tail(10)"
   ]
  },
  {
   "cell_type": "markdown",
   "id": "5f64cb3c",
   "metadata": {},
   "source": [
    "### Filling Missing Values"
   ]
  },
  {
   "cell_type": "code",
   "execution_count": 466,
   "id": "c46e3553",
   "metadata": {},
   "outputs": [
    {
     "data": {
      "image/png": "[encoded data removed]",
      "text/plain": [
       "<Figure size 800x600 with 1 Axes>"
      ]
     },
     "metadata": {},
     "output_type": "display_data"
    }
   ],
   "source": [
    "# Checking the distribution of revenue to decide the filling method to use, by mean or median\n",
    "plt.figure(figsize=(8, 6))\n",
    "sns.kdeplot(data=df, x='revenue', color='darkcyan')\n",
    "plt.title('Revenue Distribution')\n",
    "plt.xlabel('Revenue')\n",
    "plt.show()"
   ]
  },
  {
   "cell_type": "code",
   "execution_count": 467,
   "id": "1dab3e6a",
   "metadata": {},
   "outputs": [
    {
     "data": {
      "text/plain": [
       "{'Call': 49.05, 'Email': 95.58, 'Email + Call': 184.74}"
      ]
     },
     "execution_count": 467,
     "metadata": {},
     "output_type": "execute_result"
    }
   ],
   "source": [
    "# Creating a dictionary with the median of revenue by sales_method\n",
    "median_revenue_method = df.groupby('sales_method')['revenue'].median().to_dict()\n",
    "median_revenue_method"
   ]
  },
  {
   "cell_type": "code",
   "execution_count": 468,
   "id": "27b3d0a3",
   "metadata": {},
   "outputs": [
    {
     "data": {
      "text/plain": [
       "(0, (14998, 8))"
      ]
     },
     "execution_count": 468,
     "metadata": {},
     "output_type": "execute_result"
    }
   ],
   "source": [
    "# Maping the dictionary to missing values\n",
    "df['revenue'] = df['revenue'].fillna(df['sales_method'].map(median_revenue_method))\n",
    "\n",
    "# Checking the result\n",
    "df['revenue'].isna().sum(), df.shape"
   ]
  },
  {
   "cell_type": "markdown",
   "id": "bfe85bef",
   "metadata": {},
   "source": [
    "### **2- EXPLORATORY ANALYSIS**"
   ]
  },
  {
   "cell_type": "markdown",
   "id": "07020fe7",
   "metadata": {},
   "source": [
    "In this step, graphs and tables containing overall stats were used to better analyze and get some useful insights on the data. \n",
    "\n",
    "Here's what was done:"
   ]
  },
  {
   "cell_type": "markdown",
   "id": "2a33128a",
   "metadata": {},
   "source": [
    "### Setting Graph Style"
   ]
  },
  {
   "cell_type": "code",
   "execution_count": 469,
   "id": "d54ef6cb",
   "metadata": {},
   "outputs": [],
   "source": [
    "sns.set_style('whitegrid')\n",
    "sns.set_context('notebook')"
   ]
  },
  {
   "cell_type": "markdown",
   "id": "d7ed99af",
   "metadata": {},
   "source": [
    "### Countplot Showing the Total Customers For Each Sales Method"
   ]
  },
  {
   "cell_type": "markdown",
   "id": "83bda9e8",
   "metadata": {},
   "source": [
    "The ***Email*** sales method was the method to reach the most customers, with 7465 customers in total, approximately 50% of all 14998 customers. The ***Call*** method comes in second place with 4961 customers, 33% of all customers. And in third is the ***Email + Call*** method which had 2572 customer, 17% of the total. Taking in consideration that the email method is the easiest and most time effective method to perform, it's easy to comprehend its performance in reaching considerably more customers than the other methods."
   ]
  },
  {
   "cell_type": "code",
   "execution_count": 470,
   "id": "5395b538",
   "metadata": {},
   "outputs": [
    {
     "data": {
      "image/png": "[encoded data removed]",
      "text/plain": [
       "<Figure size 800x600 with 1 Axes>"
      ]
     },
     "metadata": {},
     "output_type": "display_data"
    },
    {
     "data": {
      "text/html": [
       "<div>\n",
       "<style scoped>\n",
       "    .dataframe tbody tr th:only-of-type {\n",
       "        vertical-align: middle;\n",
       "    }\n",
       "\n",
       "    .dataframe tbody tr th {\n",
       "        vertical-align: top;\n",
       "    }\n",
       "\n",
       "    .dataframe thead th {\n",
       "        text-align: right;\n",
       "    }\n",
       "</style>\n",
       "<table border=\"1\" class=\"dataframe\">\n",
       "  <thead>\n",
       "    <tr style=\"text-align: right;\">\n",
       "      <th></th>\n",
       "      <th>Total</th>\n",
       "      <th>Proportion</th>\n",
       "    </tr>\n",
       "    <tr>\n",
       "      <th>sales_method</th>\n",
       "      <th></th>\n",
       "      <th></th>\n",
       "    </tr>\n",
       "  </thead>\n",
       "  <tbody>\n",
       "    <tr>\n",
       "      <th>Email</th>\n",
       "      <td>7465</td>\n",
       "      <td>0.497733</td>\n",
       "    </tr>\n",
       "    <tr>\n",
       "      <th>Call</th>\n",
       "      <td>4961</td>\n",
       "      <td>0.330777</td>\n",
       "    </tr>\n",
       "    <tr>\n",
       "      <th>Email + Call</th>\n",
       "      <td>2572</td>\n",
       "      <td>0.171490</td>\n",
       "    </tr>\n",
       "  </tbody>\n",
       "</table>\n",
       "</div>"
      ],
      "text/plain": [
       "              Total  Proportion\n",
       "sales_method                   \n",
       "Email          7465    0.497733\n",
       "Call           4961    0.330777\n",
       "Email + Call   2572    0.171490"
      ]
     },
     "execution_count": 470,
     "metadata": {},
     "output_type": "execute_result"
    }
   ],
   "source": [
    "# Setting the order and palette of sales methods to be displayed\n",
    "order = ['Email + Call', 'Call', 'Email']\n",
    "colors = sns.color_palette('rainbow', len(order))\n",
    "color_map = dict(zip(order, colors))\n",
    "\n",
    "# Creating the graph\n",
    "plt.figure(figsize=(8, 6))\n",
    "sns.countplot(data=df, x='sales_method', palette=color_map, order=order)\n",
    "plt.title('Total of Customers For Each Sales Method')\n",
    "plt.xlabel('Sales Method')\n",
    "plt.ylabel('Customer Count')\n",
    "plt.show()\n",
    "\n",
    "# Table coontaining number of customers and proportion by sales method\n",
    "nb_customers_method = df.groupby('sales_method').agg(Total=('customer_id', 'count'), Proportion=('customer_id', lambda x: len(x) / len(df))).sort_values(by='Total', ascending=False)\n",
    "nb_customers_method"
   ]
  },
  {
   "cell_type": "markdown",
   "id": "a9499229",
   "metadata": {},
   "source": [
    "### Histplot Showing the Distribution of Revenue"
   ]
  },
  {
   "cell_type": "markdown",
   "id": "d98e916a",
   "metadata": {},
   "source": [
    "The distribution of revenue is not a normal distribution, being skewed to the right due to having an ***average*** of 95.56, lots of values above the 75th percentile and a high max value."
   ]
  },
  {
   "cell_type": "code",
   "execution_count": 471,
   "id": "7b4b7fac",
   "metadata": {},
   "outputs": [
    {
     "data": {
      "image/png": "[encoded data removed]",
      "text/plain": [
       "<Figure size 800x600 with 1 Axes>"
      ]
     },
     "metadata": {},
     "output_type": "display_data"
    },
    {
     "data": {
      "text/html": [
       "<div>\n",
       "<style scoped>\n",
       "    .dataframe tbody tr th:only-of-type {\n",
       "        vertical-align: middle;\n",
       "    }\n",
       "\n",
       "    .dataframe tbody tr th {\n",
       "        vertical-align: top;\n",
       "    }\n",
       "\n",
       "    .dataframe thead th {\n",
       "        text-align: right;\n",
       "    }\n",
       "</style>\n",
       "<table border=\"1\" class=\"dataframe\">\n",
       "  <thead>\n",
       "    <tr style=\"text-align: right;\">\n",
       "      <th></th>\n",
       "      <th>index</th>\n",
       "      <th>revenue</th>\n",
       "    </tr>\n",
       "  </thead>\n",
       "  <tbody>\n",
       "    <tr>\n",
       "      <th>0</th>\n",
       "      <td>count</td>\n",
       "      <td>14998.000000</td>\n",
       "    </tr>\n",
       "    <tr>\n",
       "      <th>1</th>\n",
       "      <td>mean</td>\n",
       "      <td>95.568619</td>\n",
       "    </tr>\n",
       "    <tr>\n",
       "      <th>2</th>\n",
       "      <td>std</td>\n",
       "      <td>47.987200</td>\n",
       "    </tr>\n",
       "    <tr>\n",
       "      <th>3</th>\n",
       "      <td>min</td>\n",
       "      <td>32.540000</td>\n",
       "    </tr>\n",
       "    <tr>\n",
       "      <th>4</th>\n",
       "      <td>25%</td>\n",
       "      <td>52.650000</td>\n",
       "    </tr>\n",
       "    <tr>\n",
       "      <th>5</th>\n",
       "      <td>50%</td>\n",
       "      <td>90.950000</td>\n",
       "    </tr>\n",
       "    <tr>\n",
       "      <th>6</th>\n",
       "      <td>75%</td>\n",
       "      <td>107.750000</td>\n",
       "    </tr>\n",
       "    <tr>\n",
       "      <th>7</th>\n",
       "      <td>max</td>\n",
       "      <td>238.320000</td>\n",
       "    </tr>\n",
       "  </tbody>\n",
       "</table>\n",
       "</div>"
      ],
      "text/plain": [
       "   index       revenue\n",
       "0  count  14998.000000\n",
       "1   mean     95.568619\n",
       "2    std     47.987200\n",
       "3    min     32.540000\n",
       "4    25%     52.650000\n",
       "5    50%     90.950000\n",
       "6    75%    107.750000\n",
       "7    max    238.320000"
      ]
     },
     "execution_count": 471,
     "metadata": {},
     "output_type": "execute_result"
    }
   ],
   "source": [
    "# Setting the graph\n",
    "plt.figure(figsize=(8, 6))\n",
    "sns.histplot(data=df, x='revenue', color='darkcyan', kde=True)\n",
    "plt.title('Revenue Distribution')\n",
    "plt.xlabel('Revenue')\n",
    "plt.show()\n",
    "\n",
    "# Table containing the descriptive statistics of revenue\n",
    "df['revenue'].describe().reset_index()"
   ]
  },
  {
   "cell_type": "markdown",
   "id": "e8b3fb1c",
   "metadata": {},
   "source": [
    "### Boxplot for Overall Units Sold Spread"
   ]
  },
  {
   "cell_type": "markdown",
   "id": "857cc598",
   "metadata": {},
   "source": [
    "In the data of number of units sold, we have a ***minimum*** of 7, an ***average*** of 10, and a ***maximum*** of 16 units sold. The majority of values are found inside the IQR, having only few outliers being above the 75% percentile."
   ]
  },
  {
   "cell_type": "code",
   "execution_count": 472,
   "id": "6881f77a",
   "metadata": {},
   "outputs": [
    {
     "data": {
      "image/png": "[encoded data removed]",
      "text/plain": [
       "<Figure size 800x600 with 1 Axes>"
      ]
     },
     "metadata": {},
     "output_type": "display_data"
    },
    {
     "data": {
      "text/html": [
       "<div>\n",
       "<style scoped>\n",
       "    .dataframe tbody tr th:only-of-type {\n",
       "        vertical-align: middle;\n",
       "    }\n",
       "\n",
       "    .dataframe tbody tr th {\n",
       "        vertical-align: top;\n",
       "    }\n",
       "\n",
       "    .dataframe thead th {\n",
       "        text-align: right;\n",
       "    }\n",
       "</style>\n",
       "<table border=\"1\" class=\"dataframe\">\n",
       "  <thead>\n",
       "    <tr style=\"text-align: right;\">\n",
       "      <th></th>\n",
       "      <th>index</th>\n",
       "      <th>nb_sold</th>\n",
       "    </tr>\n",
       "  </thead>\n",
       "  <tbody>\n",
       "    <tr>\n",
       "      <th>0</th>\n",
       "      <td>count</td>\n",
       "      <td>14998.000000</td>\n",
       "    </tr>\n",
       "    <tr>\n",
       "      <th>1</th>\n",
       "      <td>mean</td>\n",
       "      <td>10.084678</td>\n",
       "    </tr>\n",
       "    <tr>\n",
       "      <th>2</th>\n",
       "      <td>std</td>\n",
       "      <td>1.812334</td>\n",
       "    </tr>\n",
       "    <tr>\n",
       "      <th>3</th>\n",
       "      <td>min</td>\n",
       "      <td>7.000000</td>\n",
       "    </tr>\n",
       "    <tr>\n",
       "      <th>4</th>\n",
       "      <td>25%</td>\n",
       "      <td>9.000000</td>\n",
       "    </tr>\n",
       "    <tr>\n",
       "      <th>5</th>\n",
       "      <td>50%</td>\n",
       "      <td>10.000000</td>\n",
       "    </tr>\n",
       "    <tr>\n",
       "      <th>6</th>\n",
       "      <td>75%</td>\n",
       "      <td>11.000000</td>\n",
       "    </tr>\n",
       "    <tr>\n",
       "      <th>7</th>\n",
       "      <td>max</td>\n",
       "      <td>16.000000</td>\n",
       "    </tr>\n",
       "  </tbody>\n",
       "</table>\n",
       "</div>"
      ],
      "text/plain": [
       "   index       nb_sold\n",
       "0  count  14998.000000\n",
       "1   mean     10.084678\n",
       "2    std      1.812334\n",
       "3    min      7.000000\n",
       "4    25%      9.000000\n",
       "5    50%     10.000000\n",
       "6    75%     11.000000\n",
       "7    max     16.000000"
      ]
     },
     "execution_count": 472,
     "metadata": {},
     "output_type": "execute_result"
    }
   ],
   "source": [
    "# Setting the graph\n",
    "plt.figure(figsize=(8, 6))\n",
    "sns.boxplot(y=df['nb_sold'], color='darkcyan')\n",
    "plt.title('Spread of Units Sold')\n",
    "plt.ylabel('Units Sold')\n",
    "plt.show()\n",
    "\n",
    "# Table containing the descriptive statistics of units sold\n",
    "df['nb_sold'].describe().reset_index()"
   ]
  },
  {
   "cell_type": "markdown",
   "id": "d0d4d01a",
   "metadata": {},
   "source": [
    "### Boxplot Showing the Revenue Spread for Each Sales Method"
   ]
  },
  {
   "cell_type": "markdown",
   "id": "f0e41eac",
   "metadata": {},
   "source": [
    "By looking at the overall spread of revenue by sales method, we can see that there are lots of outliers in Email + Call, both under and above the IQR, meanwhile, the Email and Call methods have no outliers below the IQR and have fewer outliers above the IQR."
   ]
  },
  {
   "cell_type": "code",
   "execution_count": 473,
   "id": "78bdcc28",
   "metadata": {},
   "outputs": [
    {
     "data": {
      "image/png": "[encoded data removed]",
      "text/plain": [
       "<Figure size 800x600 with 1 Axes>"
      ]
     },
     "metadata": {},
     "output_type": "display_data"
    },
    {
     "data": {
      "text/html": [
       "<div>\n",
       "<style scoped>\n",
       "    .dataframe tbody tr th:only-of-type {\n",
       "        vertical-align: middle;\n",
       "    }\n",
       "\n",
       "    .dataframe tbody tr th {\n",
       "        vertical-align: top;\n",
       "    }\n",
       "\n",
       "    .dataframe thead th {\n",
       "        text-align: right;\n",
       "    }\n",
       "</style>\n",
       "<table border=\"1\" class=\"dataframe\">\n",
       "  <thead>\n",
       "    <tr style=\"text-align: right;\">\n",
       "      <th></th>\n",
       "      <th>count</th>\n",
       "      <th>mean</th>\n",
       "      <th>std</th>\n",
       "      <th>min</th>\n",
       "      <th>25%</th>\n",
       "      <th>50%</th>\n",
       "      <th>75%</th>\n",
       "      <th>max</th>\n",
       "    </tr>\n",
       "    <tr>\n",
       "      <th>sales_method</th>\n",
       "      <th></th>\n",
       "      <th></th>\n",
       "      <th></th>\n",
       "      <th></th>\n",
       "      <th></th>\n",
       "      <th></th>\n",
       "      <th></th>\n",
       "      <th></th>\n",
       "    </tr>\n",
       "  </thead>\n",
       "  <tbody>\n",
       "    <tr>\n",
       "      <th>Call</th>\n",
       "      <td>4961.0</td>\n",
       "      <td>47.649883</td>\n",
       "      <td>8.456520</td>\n",
       "      <td>32.54</td>\n",
       "      <td>41.6300</td>\n",
       "      <td>49.05</td>\n",
       "      <td>52.590</td>\n",
       "      <td>71.36</td>\n",
       "    </tr>\n",
       "    <tr>\n",
       "      <th>Email</th>\n",
       "      <td>7465.0</td>\n",
       "      <td>97.014887</td>\n",
       "      <td>10.802488</td>\n",
       "      <td>78.83</td>\n",
       "      <td>88.3900</td>\n",
       "      <td>95.58</td>\n",
       "      <td>104.460</td>\n",
       "      <td>148.97</td>\n",
       "    </tr>\n",
       "    <tr>\n",
       "      <th>Email + Call</th>\n",
       "      <td>2572.0</td>\n",
       "      <td>183.798970</td>\n",
       "      <td>27.040536</td>\n",
       "      <td>122.11</td>\n",
       "      <td>176.4375</td>\n",
       "      <td>184.74</td>\n",
       "      <td>189.535</td>\n",
       "      <td>238.32</td>\n",
       "    </tr>\n",
       "  </tbody>\n",
       "</table>\n",
       "</div>"
      ],
      "text/plain": [
       "               count        mean        std     min       25%     50%  \\\n",
       "sales_method                                                            \n",
       "Call          4961.0   47.649883   8.456520   32.54   41.6300   49.05   \n",
       "Email         7465.0   97.014887  10.802488   78.83   88.3900   95.58   \n",
       "Email + Call  2572.0  183.798970  27.040536  122.11  176.4375  184.74   \n",
       "\n",
       "                  75%     max  \n",
       "sales_method                   \n",
       "Call           52.590   71.36  \n",
       "Email         104.460  148.97  \n",
       "Email + Call  189.535  238.32  "
      ]
     },
     "execution_count": 473,
     "metadata": {},
     "output_type": "execute_result"
    }
   ],
   "source": [
    "# Setting the graph\n",
    "plt.figure(figsize=(8, 6))\n",
    "sns.boxplot(x='sales_method', y='revenue', data=df, palette=color_map, order=order)\n",
    "plt.title('Spread of Revenue by Sales Method')\n",
    "plt.xlabel('Sales Method')\n",
    "plt.ylabel('Revenue')\n",
    "plt.show()\n",
    "\n",
    "# Descriptive statistics of revenue by each sales method\n",
    "df.groupby('sales_method')['revenue'].describe()"
   ]
  },
  {
   "cell_type": "markdown",
   "id": "1423206d",
   "metadata": {},
   "source": [
    "### Barplot showing the average revenue by sales method"
   ]
  },
  {
   "cell_type": "markdown",
   "id": "115e492a",
   "metadata": {},
   "source": [
    "What we can see by looking at the average revenues of each method is that the one with the least sales, ***Email + Call***, had the best average revenue overall with an average of 183.7 (almost twice as much as the second place), beating the other methods, ***Email*** with an average of 97, and ***Call*** with an average of 47.6. However, we can see that the total revenue of  the ***Email*** method is highr than the sum of the other 2 methods combined! The numbers are: ***Email*** with a total of 724216.13, ***Email + Call*** with 472730.95, and at last, ***Call*** with a total of 236391.07 revenue. For the ***Email*** method, we have a minimum revenue of 78.83, and average of 97, and a maximum of 148.97. For the ***Email + Call*** we have a minimum revenue of 122.11, an average of 183.8, and a maximum of 238.32. And for the ***Call*** method, we have a minimum of 32.54, an average of 47.6, and a maximum of 71.36 revenue."
   ]
  },
  {
   "cell_type": "code",
   "execution_count": 474,
   "id": "3b595259",
   "metadata": {},
   "outputs": [
    {
     "data": {
      "image/png": "[encoded data removed]",
      "text/plain": [
       "<Figure size 800x600 with 1 Axes>"
      ]
     },
     "metadata": {},
     "output_type": "display_data"
    },
    {
     "data": {
      "text/html": [
       "<div>\n",
       "<style scoped>\n",
       "    .dataframe tbody tr th:only-of-type {\n",
       "        vertical-align: middle;\n",
       "    }\n",
       "\n",
       "    .dataframe tbody tr th {\n",
       "        vertical-align: top;\n",
       "    }\n",
       "\n",
       "    .dataframe thead th {\n",
       "        text-align: right;\n",
       "    }\n",
       "</style>\n",
       "<table border=\"1\" class=\"dataframe\">\n",
       "  <thead>\n",
       "    <tr style=\"text-align: right;\">\n",
       "      <th></th>\n",
       "      <th>sales_method</th>\n",
       "      <th>Average</th>\n",
       "      <th>Total</th>\n",
       "    </tr>\n",
       "  </thead>\n",
       "  <tbody>\n",
       "    <tr>\n",
       "      <th>0</th>\n",
       "      <td>Email</td>\n",
       "      <td>97.014887</td>\n",
       "      <td>724216.13</td>\n",
       "    </tr>\n",
       "    <tr>\n",
       "      <th>1</th>\n",
       "      <td>Email + Call</td>\n",
       "      <td>183.798970</td>\n",
       "      <td>472730.95</td>\n",
       "    </tr>\n",
       "    <tr>\n",
       "      <th>2</th>\n",
       "      <td>Call</td>\n",
       "      <td>47.649883</td>\n",
       "      <td>236391.07</td>\n",
       "    </tr>\n",
       "  </tbody>\n",
       "</table>\n",
       "</div>"
      ],
      "text/plain": [
       "   sales_method     Average      Total\n",
       "0         Email   97.014887  724216.13\n",
       "1  Email + Call  183.798970  472730.95\n",
       "2          Call   47.649883  236391.07"
      ]
     },
     "execution_count": 474,
     "metadata": {},
     "output_type": "execute_result"
    }
   ],
   "source": [
    "# Setting the graph\n",
    "plt.figure(figsize=(8, 6))\n",
    "sns.barplot(data=df, x='sales_method', y='revenue', palette=color_map, estimator=np.mean, order=order)\n",
    "plt.title('Average Revenue by Sales Method')\n",
    "plt.xlabel('Sales Method')\n",
    "plt.ylabel('Average Revenue')\n",
    "plt.show()\n",
    "\n",
    "# Table containing the revenue numbers by sales method\n",
    "df.groupby('sales_method').agg(Average=('revenue', 'mean'), Total=('revenue', sum)).sort_values(by='Total', ascending=False).reset_index()"
   ]
  },
  {
   "cell_type": "markdown",
   "id": "27f29f79",
   "metadata": {},
   "source": [
    "##"
   ]
  },
  {
   "cell_type": "markdown",
   "id": "f6267d7d",
   "metadata": {},
   "source": [
    "### Lineplot Showing the Trend Difference in Revenue Over Time for Each Sales Method"
   ]
  },
  {
   "cell_type": "markdown",
   "id": "25025ef2",
   "metadata": {},
   "source": [
    "As we look through the data of revenue over time for each sales method, we can see that the ***Email + Call*** and ***Call*** methods have had consistently increased growth in revenue throughout the weeks, ***Email + Call*** with an average increase of +49.3%, ***Call*** with +6.8%, different than the ***Email*** method, which has seen an average decrease of – 31.8%. In the last week, all methods had a decrease in growth of revenue acquired, with the ***Email*** method having the biggest decrease of 68.5%, followed by ***Call*** with a decrease of 47%, and ***Email + Call***, with the least decrease in growth of 12.6%. Overall, the ***Email + Call*** method has grown the most, but still, with lower total revenue numbers than the ***Email*** method, except in the last 2 weeks when the ***Email + Call*** method got higher revenue numbers than the ***Email*** method."
   ]
  },
  {
   "cell_type": "code",
   "execution_count": 475,
   "id": "16f90f76",
   "metadata": {},
   "outputs": [
    {
     "data": {
      "image/png": "[encoded data removed]",
      "text/plain": [
       "<Figure size 1000x600 with 1 Axes>"
      ]
     },
     "metadata": {},
     "output_type": "display_data"
    },
    {
     "data": {
      "text/html": [
       "<style type=\"text/css\">\n",
       "</style>\n",
       "<table id=\"T_ca8ea\">\n",
       "  <caption>Revenue and Percentage Change Over Time by Sales Method</caption>\n",
       "  <thead>\n",
       "    <tr>\n",
       "      <th class=\"blank level0\" >&nbsp;</th>\n",
       "      <th id=\"T_ca8ea_level0_col0\" class=\"col_heading level0 col0\" colspan=\"3\">revenue</th>\n",
       "      <th id=\"T_ca8ea_level0_col3\" class=\"col_heading level0 col3\" colspan=\"3\">pct_change</th>\n",
       "    </tr>\n",
       "    <tr>\n",
       "      <th class=\"index_name level1\" >sales_method</th>\n",
       "      <th id=\"T_ca8ea_level1_col0\" class=\"col_heading level1 col0\" >Call</th>\n",
       "      <th id=\"T_ca8ea_level1_col1\" class=\"col_heading level1 col1\" >Email</th>\n",
       "      <th id=\"T_ca8ea_level1_col2\" class=\"col_heading level1 col2\" >Email + Call</th>\n",
       "      <th id=\"T_ca8ea_level1_col3\" class=\"col_heading level1 col3\" >Call</th>\n",
       "      <th id=\"T_ca8ea_level1_col4\" class=\"col_heading level1 col4\" >Email</th>\n",
       "      <th id=\"T_ca8ea_level1_col5\" class=\"col_heading level1 col5\" >Email + Call</th>\n",
       "    </tr>\n",
       "    <tr>\n",
       "      <th class=\"index_name level0\" >week</th>\n",
       "      <th class=\"blank col0\" >&nbsp;</th>\n",
       "      <th class=\"blank col1\" >&nbsp;</th>\n",
       "      <th class=\"blank col2\" >&nbsp;</th>\n",
       "      <th class=\"blank col3\" >&nbsp;</th>\n",
       "      <th class=\"blank col4\" >&nbsp;</th>\n",
       "      <th class=\"blank col5\" >&nbsp;</th>\n",
       "    </tr>\n",
       "  </thead>\n",
       "  <tbody>\n",
       "    <tr>\n",
       "      <th id=\"T_ca8ea_level0_row0\" class=\"row_heading level0 row0\" >1</th>\n",
       "      <td id=\"T_ca8ea_row0_col0\" class=\"data row0 col0\" >27042.080000</td>\n",
       "      <td id=\"T_ca8ea_row0_col1\" class=\"data row0 col1\" >247830.170000</td>\n",
       "      <td id=\"T_ca8ea_row0_col2\" class=\"data row0 col2\" >20025.910000</td>\n",
       "      <td id=\"T_ca8ea_row0_col3\" class=\"data row0 col3\" >nan</td>\n",
       "      <td id=\"T_ca8ea_row0_col4\" class=\"data row0 col4\" >nan</td>\n",
       "      <td id=\"T_ca8ea_row0_col5\" class=\"data row0 col5\" >nan</td>\n",
       "    </tr>\n",
       "    <tr>\n",
       "      <th id=\"T_ca8ea_level0_row1\" class=\"row_heading level0 row1\" >2</th>\n",
       "      <td id=\"T_ca8ea_row1_col0\" class=\"data row1 col0\" >35263.520000</td>\n",
       "      <td id=\"T_ca8ea_row1_col1\" class=\"data row1 col1\" >148212.570000</td>\n",
       "      <td id=\"T_ca8ea_row1_col2\" class=\"data row1 col2\" >31733.690000</td>\n",
       "      <td id=\"T_ca8ea_row1_col3\" class=\"data row1 col3\" >30.402395</td>\n",
       "      <td id=\"T_ca8ea_row1_col4\" class=\"data row1 col4\" >-40.195913</td>\n",
       "      <td id=\"T_ca8ea_row1_col5\" class=\"data row1 col5\" >58.463161</td>\n",
       "    </tr>\n",
       "    <tr>\n",
       "      <th id=\"T_ca8ea_level0_row2\" class=\"row_heading level0 row2\" >3</th>\n",
       "      <td id=\"T_ca8ea_row2_col0\" class=\"data row2 col0\" >37914.970000</td>\n",
       "      <td id=\"T_ca8ea_row2_col1\" class=\"data row2 col1\" >106916.440000</td>\n",
       "      <td id=\"T_ca8ea_row2_col2\" class=\"data row2 col2\" >55203.040000</td>\n",
       "      <td id=\"T_ca8ea_row2_col3\" class=\"data row2 col3\" >7.518960</td>\n",
       "      <td id=\"T_ca8ea_row2_col4\" class=\"data row2 col4\" >-27.862772</td>\n",
       "      <td id=\"T_ca8ea_row2_col5\" class=\"data row2 col5\" >73.957204</td>\n",
       "    </tr>\n",
       "    <tr>\n",
       "      <th id=\"T_ca8ea_level0_row3\" class=\"row_heading level0 row3\" >4</th>\n",
       "      <td id=\"T_ca8ea_row3_col0\" class=\"data row3 col0\" >51554.570000</td>\n",
       "      <td id=\"T_ca8ea_row3_col1\" class=\"data row3 col1\" >115912.670000</td>\n",
       "      <td id=\"T_ca8ea_row3_col2\" class=\"data row3 col2\" >89750.080000</td>\n",
       "      <td id=\"T_ca8ea_row3_col3\" class=\"data row3 col3\" >35.974181</td>\n",
       "      <td id=\"T_ca8ea_row3_col4\" class=\"data row3 col4\" >8.414263</td>\n",
       "      <td id=\"T_ca8ea_row3_col5\" class=\"data row3 col5\" >62.581771</td>\n",
       "    </tr>\n",
       "    <tr>\n",
       "      <th id=\"T_ca8ea_level0_row4\" class=\"row_heading level0 row4\" >5</th>\n",
       "      <td id=\"T_ca8ea_row4_col0\" class=\"data row4 col0\" >55332.960000</td>\n",
       "      <td id=\"T_ca8ea_row4_col1\" class=\"data row4 col1\" >80108.250000</td>\n",
       "      <td id=\"T_ca8ea_row4_col2\" class=\"data row4 col2\" >147315.860000</td>\n",
       "      <td id=\"T_ca8ea_row4_col3\" class=\"data row4 col3\" >7.328914</td>\n",
       "      <td id=\"T_ca8ea_row4_col4\" class=\"data row4 col4\" >-30.889134</td>\n",
       "      <td id=\"T_ca8ea_row4_col5\" class=\"data row4 col5\" >64.140088</td>\n",
       "    </tr>\n",
       "    <tr>\n",
       "      <th id=\"T_ca8ea_level0_row5\" class=\"row_heading level0 row5\" >6</th>\n",
       "      <td id=\"T_ca8ea_row5_col0\" class=\"data row5 col0\" >29282.970000</td>\n",
       "      <td id=\"T_ca8ea_row5_col1\" class=\"data row5 col1\" >25236.030000</td>\n",
       "      <td id=\"T_ca8ea_row5_col2\" class=\"data row5 col2\" >128702.370000</td>\n",
       "      <td id=\"T_ca8ea_row5_col3\" class=\"data row5 col3\" >-47.078613</td>\n",
       "      <td id=\"T_ca8ea_row5_col4\" class=\"data row5 col4\" >-68.497589</td>\n",
       "      <td id=\"T_ca8ea_row5_col5\" class=\"data row5 col5\" >-12.635089</td>\n",
       "    </tr>\n",
       "  </tbody>\n",
       "</table>\n"
      ],
      "text/plain": [
       "<pandas.io.formats.style.Styler at 0x1fc84d64fe0>"
      ]
     },
     "execution_count": 475,
     "metadata": {},
     "output_type": "execute_result"
    }
   ],
   "source": [
    "# Setting revenue over time\n",
    "\n",
    "revenue_over_time = df.groupby(['week', 'sales_method'])['revenue'].sum().reset_index()\n",
    "\n",
    "# Setting the graph\n",
    "plt.figure(figsize=(10, 6))\n",
    "sns.lineplot(data=revenue_over_time, x='week', y='revenue',hue='sales_method', hue_order=order, marker='o', palette=color_map)\n",
    "plt.title('Revenue Over Time by Sales Method')\n",
    "plt.xlabel('Week')\n",
    "plt.ylabel('Total Revenue')\n",
    "plt.legend(title='Sales Method')\n",
    "plt.show()\n",
    "\n",
    "# Table containing revenue and percentage change Over time by sales method\n",
    "revenue_over_time = revenue_over_time.sort_values(by=['sales_method', 'week'])\n",
    "\n",
    "revenue_over_time['pct_change'] = revenue_over_time.groupby('sales_method')['revenue'].pct_change() * 100\n",
    "\n",
    "revenue_unstacked = revenue_over_time.set_index(['week', 'sales_method']).unstack('sales_method')\n",
    "\n",
    "revenue_unstacked.style.format({('revenue',): '{:,.2f}', ('pct_change',): '{:+,.2f}%'}).set_caption(\"Revenue and Percentage Change Over Time by Sales Method\")\n"
   ]
  },
  {
   "cell_type": "markdown",
   "id": "d8626040",
   "metadata": {},
   "source": [
    "### Average percentage change in revenue over time"
   ]
  },
  {
   "cell_type": "code",
   "execution_count": 476,
   "id": "cfbfd89e",
   "metadata": {},
   "outputs": [
    {
     "data": {
      "text/plain": [
       "sales_method\n",
       "Email + Call    49.301427\n",
       "Call             6.829167\n",
       "Email          -31.806229\n",
       "dtype: float64"
      ]
     },
     "execution_count": 476,
     "metadata": {},
     "output_type": "execute_result"
    }
   ],
   "source": [
    "average_pct_change_revenue = revenue_unstacked['pct_change'].mean()\n",
    "average_pct_change_revenue.sort_values(ascending=False)"
   ]
  },
  {
   "cell_type": "markdown",
   "id": "1f82838f",
   "metadata": {},
   "source": [
    "### Lineplot Showing the Trend of Customer Amount and Percentage Change Over Time by Sales Method"
   ]
  },
  {
   "cell_type": "markdown",
   "id": "d17018b1",
   "metadata": {},
   "source": [
    "When we look at the change in number of customers over time, we can see that the ***Email + Call*** method had the best growth in number of customers between the 3 methods, with an average growth of +37.1%, followed by the ***Call*** method with a decrease in growth of -4.7%, and then the ***Email*** method with an average decrease in growth of -36.1%. The decrease in revenue growth in the last week that was seen in the other graph can be explained by the decrease in customer growth for each method."
   ]
  },
  {
   "cell_type": "code",
   "execution_count": 477,
   "id": "6c7dc817",
   "metadata": {},
   "outputs": [
    {
     "data": {
      "image/png": "[encoded data removed]",
      "text/plain": [
       "<Figure size 1000x600 with 1 Axes>"
      ]
     },
     "metadata": {},
     "output_type": "display_data"
    },
    {
     "data": {
      "text/html": [
       "<style type=\"text/css\">\n",
       "</style>\n",
       "<table id=\"T_20b7c\">\n",
       "  <caption>Customer Amount and Percentage Change Over Time by Sales Method</caption>\n",
       "  <thead>\n",
       "    <tr>\n",
       "      <th class=\"blank level0\" >&nbsp;</th>\n",
       "      <th id=\"T_20b7c_level0_col0\" class=\"col_heading level0 col0\" colspan=\"3\">customer_sum</th>\n",
       "      <th id=\"T_20b7c_level0_col3\" class=\"col_heading level0 col3\" colspan=\"3\">pct_change</th>\n",
       "    </tr>\n",
       "    <tr>\n",
       "      <th class=\"index_name level1\" >sales_method</th>\n",
       "      <th id=\"T_20b7c_level1_col0\" class=\"col_heading level1 col0\" >Call</th>\n",
       "      <th id=\"T_20b7c_level1_col1\" class=\"col_heading level1 col1\" >Email</th>\n",
       "      <th id=\"T_20b7c_level1_col2\" class=\"col_heading level1 col2\" >Email + Call</th>\n",
       "      <th id=\"T_20b7c_level1_col3\" class=\"col_heading level1 col3\" >Call</th>\n",
       "      <th id=\"T_20b7c_level1_col4\" class=\"col_heading level1 col4\" >Email</th>\n",
       "      <th id=\"T_20b7c_level1_col5\" class=\"col_heading level1 col5\" >Email + Call</th>\n",
       "    </tr>\n",
       "    <tr>\n",
       "      <th class=\"index_name level0\" >week</th>\n",
       "      <th class=\"blank col0\" >&nbsp;</th>\n",
       "      <th class=\"blank col1\" >&nbsp;</th>\n",
       "      <th class=\"blank col2\" >&nbsp;</th>\n",
       "      <th class=\"blank col3\" >&nbsp;</th>\n",
       "      <th class=\"blank col4\" >&nbsp;</th>\n",
       "      <th class=\"blank col5\" >&nbsp;</th>\n",
       "    </tr>\n",
       "  </thead>\n",
       "  <tbody>\n",
       "    <tr>\n",
       "      <th id=\"T_20b7c_level0_row0\" class=\"row_heading level0 row0\" >1</th>\n",
       "      <td id=\"T_20b7c_row0_col0\" class=\"data row0 col0\" >758</td>\n",
       "      <td id=\"T_20b7c_row0_col1\" class=\"data row0 col1\" >2815</td>\n",
       "      <td id=\"T_20b7c_row0_col2\" class=\"data row0 col2\" >148</td>\n",
       "      <td id=\"T_20b7c_row0_col3\" class=\"data row0 col3\" >nan</td>\n",
       "      <td id=\"T_20b7c_row0_col4\" class=\"data row0 col4\" >nan</td>\n",
       "      <td id=\"T_20b7c_row0_col5\" class=\"data row0 col5\" >nan</td>\n",
       "    </tr>\n",
       "    <tr>\n",
       "      <th id=\"T_20b7c_level0_row1\" class=\"row_heading level0 row1\" >2</th>\n",
       "      <td id=\"T_20b7c_row1_col0\" class=\"data row1 col0\" >805</td>\n",
       "      <td id=\"T_20b7c_row1_col1\" class=\"data row1 col1\" >1485</td>\n",
       "      <td id=\"T_20b7c_row1_col2\" class=\"data row1 col2\" >200</td>\n",
       "      <td id=\"T_20b7c_row1_col3\" class=\"data row1 col3\" >6.200528</td>\n",
       "      <td id=\"T_20b7c_row1_col4\" class=\"data row1 col4\" >-47.246892</td>\n",
       "      <td id=\"T_20b7c_row1_col5\" class=\"data row1 col5\" >35.135135</td>\n",
       "    </tr>\n",
       "    <tr>\n",
       "      <th id=\"T_20b7c_level0_row2\" class=\"row_heading level0 row2\" >3</th>\n",
       "      <td id=\"T_20b7c_row2_col0\" class=\"data row2 col0\" >902</td>\n",
       "      <td id=\"T_20b7c_row2_col1\" class=\"data row2 col1\" >1150</td>\n",
       "      <td id=\"T_20b7c_row2_col2\" class=\"data row2 col2\" >359</td>\n",
       "      <td id=\"T_20b7c_row2_col3\" class=\"data row2 col3\" >12.049689</td>\n",
       "      <td id=\"T_20b7c_row2_col4\" class=\"data row2 col4\" >-22.558923</td>\n",
       "      <td id=\"T_20b7c_row2_col5\" class=\"data row2 col5\" >79.500000</td>\n",
       "    </tr>\n",
       "    <tr>\n",
       "      <th id=\"T_20b7c_level0_row3\" class=\"row_heading level0 row3\" >4</th>\n",
       "      <td id=\"T_20b7c_row3_col0\" class=\"data row3 col0\" >1004</td>\n",
       "      <td id=\"T_20b7c_row3_col1\" class=\"data row3 col1\" >1075</td>\n",
       "      <td id=\"T_20b7c_row3_col2\" class=\"data row3 col2\" >495</td>\n",
       "      <td id=\"T_20b7c_row3_col3\" class=\"data row3 col3\" >11.308204</td>\n",
       "      <td id=\"T_20b7c_row3_col4\" class=\"data row3 col4\" >-6.521739</td>\n",
       "      <td id=\"T_20b7c_row3_col5\" class=\"data row3 col5\" >37.883008</td>\n",
       "    </tr>\n",
       "    <tr>\n",
       "      <th id=\"T_20b7c_level0_row4\" class=\"row_heading level0 row4\" >5</th>\n",
       "      <td id=\"T_20b7c_row4_col0\" class=\"data row4 col0\" >1044</td>\n",
       "      <td id=\"T_20b7c_row4_col1\" class=\"data row4 col1\" >743</td>\n",
       "      <td id=\"T_20b7c_row4_col2\" class=\"data row4 col2\" >787</td>\n",
       "      <td id=\"T_20b7c_row4_col3\" class=\"data row4 col3\" >3.984064</td>\n",
       "      <td id=\"T_20b7c_row4_col4\" class=\"data row4 col4\" >-30.883721</td>\n",
       "      <td id=\"T_20b7c_row4_col5\" class=\"data row4 col5\" >58.989899</td>\n",
       "    </tr>\n",
       "    <tr>\n",
       "      <th id=\"T_20b7c_level0_row5\" class=\"row_heading level0 row5\" >6</th>\n",
       "      <td id=\"T_20b7c_row5_col0\" class=\"data row5 col0\" >448</td>\n",
       "      <td id=\"T_20b7c_row5_col1\" class=\"data row5 col1\" >197</td>\n",
       "      <td id=\"T_20b7c_row5_col2\" class=\"data row5 col2\" >583</td>\n",
       "      <td id=\"T_20b7c_row5_col3\" class=\"data row5 col3\" >-57.088123</td>\n",
       "      <td id=\"T_20b7c_row5_col4\" class=\"data row5 col4\" >-73.485868</td>\n",
       "      <td id=\"T_20b7c_row5_col5\" class=\"data row5 col5\" >-25.921220</td>\n",
       "    </tr>\n",
       "  </tbody>\n",
       "</table>\n"
      ],
      "text/plain": [
       "<pandas.io.formats.style.Styler at 0x1fc8842c500>"
      ]
     },
     "execution_count": 477,
     "metadata": {},
     "output_type": "execute_result"
    }
   ],
   "source": [
    "# Setting customer sum\n",
    "customer_sum = df.groupby(['week', 'sales_method'])['customer_id'].count().reset_index()\n",
    "customer_sum.columns = ['week', 'sales_method', 'customer_sum']\n",
    "\n",
    "customer_sum = customer_sum.sort_values(by=['sales_method', 'week'])\n",
    "\n",
    "# Setting the graph\n",
    "plt.figure(figsize=(10, 6))\n",
    "sns.lineplot(data=customer_sum, x='week', y='customer_sum', hue='sales_method', hue_order=order, marker='o', palette=color_map)\n",
    "plt.title('Amount of Customers Over Time for Each Sales Method')\n",
    "plt.xlabel('Week')\n",
    "plt.ylabel('Number of Customers')\n",
    "plt.legend(title='Sales Method')\n",
    "plt.show()\n",
    "\n",
    "# Table containing the customer Amount and percentage change over time by sales method\n",
    "customer_sum['pct_change'] = customer_sum.groupby('sales_method')['customer_sum'].pct_change() * 100\n",
    "\n",
    "customer_unstacked = customer_sum.set_index(['week', 'sales_method']).unstack('sales_method')\n",
    "\n",
    "customer_unstacked.style.format({('customer',): '{:,.2f}', ('pct_change',): '{:+,.2f}%'}).set_caption(\"Customer Amount and Percentage Change Over Time by Sales Method\")"
   ]
  },
  {
   "cell_type": "markdown",
   "id": "d716da3a",
   "metadata": {},
   "source": [
    "### Average percentage change in number of customers over time"
   ]
  },
  {
   "cell_type": "code",
   "execution_count": 478,
   "id": "5cd8c1ee",
   "metadata": {},
   "outputs": [
    {
     "data": {
      "text/plain": [
       "sales_method\n",
       "Email + Call    37.117365\n",
       "Call            -4.709128\n",
       "Email          -36.139428\n",
       "dtype: float64"
      ]
     },
     "execution_count": 478,
     "metadata": {},
     "output_type": "execute_result"
    }
   ],
   "source": [
    "average_pct_change_customers = customer_unstacked['pct_change'].mean()\n",
    "average_pct_change_customers.sort_values(ascending=False)"
   ]
  },
  {
   "cell_type": "markdown",
   "id": "cf6b040f",
   "metadata": {},
   "source": [
    "### **3- METRIC TO MONITOR**"
   ]
  },
  {
   "cell_type": "markdown",
   "id": "2b196b2a",
   "metadata": {},
   "source": [
    "The business goal should be to maximize sales and revenue by maintaining the effort as low as possible so it increases its efficiency. Hence based on the sales strategies tested for the new line of office stationery, the business should focus on monitoring a key metric that reflects both revenue generation and the effort required by the sales team. \n",
    "\n",
    "With that in mind, the proposed metric is revenue per hour of sales effort.\n",
    "\n",
    "This metric accounts for the time spent on each sales approach (Email, Eall, Email + Call) and relates it to the revenue generated. By tracking this metric, the business can evaluate the efficiency of each method and optimize resource allocation based on the return generated from time spent by the team.\n",
    "\n",
    "We can estimate the time spent on each sales strategy as follows:\n",
    "\n",
    "•Email: Minimal time spent, let's assume 1 minute per customer.\n",
    "\n",
    "•Call: 30 minutes per customer on average.\n",
    "\n",
    "•Email + Call: 1 minute for the email + 10 minutes for the follow-up call.\n",
    "\n",
    "Then we can calculate the revenue per hour of sales effort:\n",
    "\n",
    "•Sum the total revenue for each method.\n",
    "\n",
    "•Sum the total hours spent on each method.\n",
    "\n",
    "Then the revenue per hour can be computed by dividing the total revenue by the total time spent in hours."
   ]
  },
  {
   "cell_type": "markdown",
   "id": "eb5c2952",
   "metadata": {},
   "source": [
    "### Python code to calculate the metric"
   ]
  },
  {
   "cell_type": "code",
   "execution_count": 479,
   "id": "ee10d902",
   "metadata": {},
   "outputs": [
    {
     "data": {
      "text/html": [
       "<div>\n",
       "<style scoped>\n",
       "    .dataframe tbody tr th:only-of-type {\n",
       "        vertical-align: middle;\n",
       "    }\n",
       "\n",
       "    .dataframe tbody tr th {\n",
       "        vertical-align: top;\n",
       "    }\n",
       "\n",
       "    .dataframe thead th {\n",
       "        text-align: right;\n",
       "    }\n",
       "</style>\n",
       "<table border=\"1\" class=\"dataframe\">\n",
       "  <thead>\n",
       "    <tr style=\"text-align: right;\">\n",
       "      <th></th>\n",
       "      <th>Sales Method</th>\n",
       "      <th>Revenue per Hour of Sales Effort</th>\n",
       "    </tr>\n",
       "  </thead>\n",
       "  <tbody>\n",
       "    <tr>\n",
       "      <th>1</th>\n",
       "      <td>Email</td>\n",
       "      <td>5821.0</td>\n",
       "    </tr>\n",
       "    <tr>\n",
       "      <th>2</th>\n",
       "      <td>Email + Call</td>\n",
       "      <td>1003.0</td>\n",
       "    </tr>\n",
       "    <tr>\n",
       "      <th>0</th>\n",
       "      <td>Call</td>\n",
       "      <td>95.0</td>\n",
       "    </tr>\n",
       "  </tbody>\n",
       "</table>\n",
       "</div>"
      ],
      "text/plain": [
       "   Sales Method  Revenue per Hour of Sales Effort\n",
       "1         Email                            5821.0\n",
       "2  Email + Call                            1003.0\n",
       "0          Call                              95.0"
      ]
     },
     "execution_count": 479,
     "metadata": {},
     "output_type": "execute_result"
    }
   ],
   "source": [
    "# Creating an empty column and filling with the respective values\n",
    "df['time_spent'] = 0\n",
    "df.loc[df['sales_method'] == 'Email', 'time_spent'] = 1  \n",
    "df.loc[df['sales_method'] == 'Call', 'time_spent'] = 30  \n",
    "df.loc[df['sales_method'] == 'Email + Call', 'time_spent'] = 11  \n",
    "\n",
    "# Deviding by 60 to give us the hours\n",
    "df['hours_spent'] = df['time_spent'] / 60\n",
    "\n",
    "# Grouping the total revenue and time spent by slaes method\n",
    "total_revenue_by_method = df.groupby('sales_method')['revenue'].sum()\n",
    "total_time_by_method = df.groupby('sales_method')['hours_spent'].sum()\n",
    "\n",
    "# Calculating the revenue per hour\n",
    "revenue_per_hour = total_revenue_by_method / total_time_by_method\n",
    "\n",
    "revenue_per_hour = revenue_per_hour.reset_index()\n",
    "revenue_per_hour.columns = ['Sales Method', 'Revenue per Hour of Sales Effort']\n",
    "revenue_per_hour.round().sort_values(by='Revenue per Hour of Sales Effort', ascending=False)"
   ]
  },
  {
   "cell_type": "markdown",
   "id": "ce077b3c",
   "metadata": {},
   "source": [
    "With that, we can see that the Email method is the most efficient in generating revenue per sales effort, followed by Email + Call and, at last place, the call method which is the least effective method by far."
   ]
  },
  {
   "cell_type": "markdown",
   "id": "050413f1",
   "metadata": {},
   "source": [
    "### **4- SUMMARY AND RECOMMENDATIONS**"
   ]
  },
  {
   "cell_type": "markdown",
   "id": "d95498cc",
   "metadata": {},
   "source": [
    "**This analysis addresses the problem of creating the most revenue with as much efficiency as possible, by prioritizing the most efficient methods By comparing the performance of different sales methods (Email, Call, Email + Call), the business could benefit a lot in the long-term.**\n",
    "\n",
    "**Based on the revenue per hour of sales effort metric and on the exploratory analysis, the most appropriate recomendation would be to keep the focus on the Email method which is the most time efficient and has generated the most revenue so far, while keeping track of increases in efficiency of the Email + Call method and diverting the efforts from the Call method to Email + Call, as the Call method compares very poorly to the other methods, demanding way too much time with not as much revenue in result.**\n",
    "\n",
    "Other recommendations to better improve and understand the data:\n",
    "\n",
    "• Inconsistent values of the sales_method column should be corrected when collecting the data.\n",
    "\n",
    "• Implement a strategy to identify the reasons as to why there are missing values corresponding to the revenue, and to fill those values if possible.\n",
    "\n",
    "• More detailed information of the time spent reaching the customer could be gathered and included into a new column on the dataset.\n",
    "\n",
    "• Create standardized templates of emails to be sent and include the types into a column on the dataset, so we could take a look at what template of email is the most efficient by A/B testing and other methods.\n",
    "\n",
    "• Explore new methods of reaching out to new customers\n",
    "\n",
    "• Gather more information about the period of time the client was approached and when the sale was made.\n",
    "\n",
    "• Gather more information about the client, such as demographics and preferences.\n",
    "\n",
    "The business could see a lot of improvements by implementing these strategies, as these strategies can increase the amount and quality of insights we can get from the data gathered.\n"
   ]
  },
  {
   "cell_type": "markdown",
   "id": "da962ca1",
   "metadata": {},
   "source": [
    "### 5- **Simulated revenue without the 'Call' method**"
   ]
  },
  {
   "cell_type": "markdown",
   "id": "67ffd4c6",
   "metadata": {},
   "source": [
    "By diverting the hours spent with the Call method equally between the other methods, the total change in revenue could reach an estimated increase of 707%. Here's how to calculate this total increase:"
   ]
  },
  {
   "cell_type": "code",
   "execution_count": 480,
   "id": "b6c5d41a",
   "metadata": {},
   "outputs": [
    {
     "data": {
      "text/plain": [
       "sales_method\n",
       "Call            2480.500000\n",
       "Email            124.416667\n",
       "Email + Call     471.533333\n",
       "Name: hours_spent, dtype: float64"
      ]
     },
     "execution_count": 480,
     "metadata": {},
     "output_type": "execute_result"
    }
   ],
   "source": [
    "# Checking the total time\n",
    "total_time_by_method"
   ]
  },
  {
   "cell_type": "code",
   "execution_count": 481,
   "id": "4a6581c5",
   "metadata": {},
   "outputs": [
    {
     "data": {
      "text/plain": [
       "sales_method\n",
       "Call            236391.07\n",
       "Email           724216.13\n",
       "Email + Call    472730.95\n",
       "Name: revenue, dtype: float64"
      ]
     },
     "execution_count": 481,
     "metadata": {},
     "output_type": "execute_result"
    }
   ],
   "source": [
    "#Checkin the total revenue\n",
    "total_revenue_by_method"
   ]
  },
  {
   "cell_type": "code",
   "execution_count": 482,
   "id": "73dda869",
   "metadata": {},
   "outputs": [],
   "source": [
    "# Removing the 'Call' method\n",
    "method_to_exclude = 'Call'  \n",
    "\n",
    "sim = df[df['sales_method'] != method_to_exclude].copy()"
   ]
  },
  {
   "cell_type": "code",
   "execution_count": 483,
   "id": "b97e7e4e",
   "metadata": {},
   "outputs": [
    {
     "data": {
      "text/plain": [
       "sales_method\n",
       "Email           724216.13\n",
       "Email + Call    472730.95\n",
       "Name: revenue, dtype: float64"
      ]
     },
     "execution_count": 483,
     "metadata": {},
     "output_type": "execute_result"
    }
   ],
   "source": [
    "# Creating new total_revenue without the 'Call' method\n",
    "total_revenue_2 = sim.groupby('sales_method')['revenue'].sum()\n",
    "total_revenue_2"
   ]
  },
  {
   "cell_type": "code",
   "execution_count": 484,
   "id": "bd00f04a",
   "metadata": {},
   "outputs": [
    {
     "data": {
      "text/plain": [
       "sales_method\n",
       "Email           124.416667\n",
       "Email + Call    471.533333\n",
       "Name: hours_spent, dtype: float64"
      ]
     },
     "execution_count": 484,
     "metadata": {},
     "output_type": "execute_result"
    }
   ],
   "source": [
    "# Creating new total_time without the 'Call' method\n",
    "total_time_2 = sim.groupby('sales_method')['hours_spent'].sum()\n",
    "total_time_2"
   ]
  },
  {
   "cell_type": "code",
   "execution_count": 485,
   "id": "7ebdf3f8",
   "metadata": {},
   "outputs": [],
   "source": [
    "# Creating new revenue_per_hour without the 'Call' method\n",
    "revenue_per_hour_2 = total_revenue_2 / total_time_2"
   ]
  },
  {
   "cell_type": "code",
   "execution_count": 486,
   "id": "034a55ad",
   "metadata": {},
   "outputs": [
    {
     "data": {
      "text/plain": [
       "sales_method\n",
       "Email           5821.0\n",
       "Email + Call    1003.0\n",
       "dtype: float64"
      ]
     },
     "execution_count": 486,
     "metadata": {},
     "output_type": "execute_result"
    }
   ],
   "source": [
    "# Rounding the totals and displaying them\n",
    "revenue_per_hour_2 = sim_revenue_per_hour.round()\n",
    "revenue_per_hour_2"
   ]
  },
  {
   "cell_type": "code",
   "execution_count": 487,
   "id": "48460ec2",
   "metadata": {},
   "outputs": [],
   "source": [
    "# Redistributing the amount of time spent with the 'Call' method to the other methods\n",
    "total_time_2 += 1240\n",
    "total_time_2 = total_time_2.round()"
   ]
  },
  {
   "cell_type": "code",
   "execution_count": 488,
   "id": "736afa84",
   "metadata": {},
   "outputs": [
    {
     "data": {
      "text/plain": [
       "sales_method\n",
       "Email           7939844.0\n",
       "Email + Call    1717136.0\n",
       "dtype: float64"
      ]
     },
     "execution_count": 488,
     "metadata": {},
     "output_type": "execute_result"
    }
   ],
   "source": [
    "# Simulating revenue with the increase\n",
    "sim_revenue = total_time_2 * revenue_per_hour_2\n",
    "sim_revenue"
   ]
  },
  {
   "cell_type": "code",
   "execution_count": 489,
   "id": "34a1a2f0",
   "metadata": {},
   "outputs": [
    {
     "data": {
      "text/plain": [
       "sales_method\n",
       "Email           996.336255\n",
       "Email + Call    263.237482\n",
       "dtype: float64"
      ]
     },
     "execution_count": 489,
     "metadata": {},
     "output_type": "execute_result"
    }
   ],
   "source": [
    "# Checking the percentage increase in revenue\n",
    "((sim_revenue - total_revenue_2) / total_revenue_2) * 100"
   ]
  },
  {
   "cell_type": "code",
   "execution_count": 492,
   "id": "2ad1b3e4",
   "metadata": {},
   "outputs": [
    {
     "data": {
      "text/plain": [
       "707.0"
      ]
     },
     "execution_count": 492,
     "metadata": {},
     "output_type": "execute_result"
    }
   ],
   "source": [
    "# Calculating total increase in revenue\n",
    "(((sim_revenue.sum() - total_revenue_2.sum()) / total_revenue_2.sum()) * 100).round()"
   ]
  }
 ],
 "metadata": {
  "kernelspec": {
   "display_name": "Python 3",
   "language": "python",
   "name": "python3"
  },
  "language_info": {
   "codemirror_mode": {
    "name": "ipython",
    "version": 3
   },
   "file_extension": ".py",
   "mimetype": "text/x-python",
   "name": "python",
   "nbconvert_exporter": "python",
   "pygments_lexer": "ipython3",
   "version": "3.12.3"
  }
 },
 "nbformat": 4,
 "nbformat_minor": 5
}
